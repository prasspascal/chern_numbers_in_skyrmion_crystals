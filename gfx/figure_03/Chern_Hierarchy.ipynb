{
 "cells": [
  {
   "cell_type": "code",
   "execution_count": null,
   "id": "a5de8acd-ea7f-4cf7-815e-7441e36dfb48",
   "metadata": {},
   "outputs": [],
   "source": [
    "import os\n",
    "import numpy as np\n",
    "import pandas as pd\n",
    "from matplotlib import cm"
   ]
  },
  {
   "cell_type": "code",
   "execution_count": null,
   "id": "af450274-89d7-41f4-982f-26d350fe8af7",
   "metadata": {},
   "outputs": [],
   "source": [
    "def set_pandas_display_options() -> None:\n",
    "    \"\"\"Set pandas display options.\"\"\"\n",
    "    # Ref: https://stackoverflow.com/a/52432757/\n",
    "    display = pd.options.display\n",
    "\n",
    "    display.max_columns = None\n",
    "    display.max_rows = None\n",
    "    display.max_colwidth = None\n",
    "    display.width = None\n",
    "    display.chop_threshold = None\n",
    "    display.precision = None  # set as needed\n",
    "    display.float_format = '{:,.8f}'.format\n",
    "\n",
    "set_pandas_display_options()"
   ]
  },
  {
   "cell_type": "markdown",
   "id": "fb525814-8146-4431-bb13-92656fdfb2ae",
   "metadata": {},
   "source": [
    "# Define methods"
   ]
  },
  {
   "cell_type": "markdown",
   "id": "eb1edbf9-6a61-40d9-a58f-ea2bf2bfed80",
   "metadata": {},
   "source": [
    "## Latex"
   ]
  },
  {
   "cell_type": "code",
   "execution_count": null,
   "id": "22142c5e-1672-4edb-ba30-e07bf076c5be",
   "metadata": {},
   "outputs": [],
   "source": [
    "def gap_bullet(a,b,c):\n",
    "    return r'Gap {\\Large\\textcolor[rgb]{%f,%f,%f}{\\ensuremath\\bullet}}'%(a,b,c)"
   ]
  },
  {
   "cell_type": "code",
   "execution_count": null,
   "id": "b4c1645a-11d3-4072-9af7-992d077be374",
   "metadata": {},
   "outputs": [],
   "source": [
    "def latex_float(f):\n",
    "    \"\"\"\n",
    "        Based on https://stackoverflow.com/questions/13490292/format-number-using-latex-notation-in-python\n",
    "    \"\"\"\n",
    "    float_str = f'{f:.1e}'\n",
    "    if \"e\" in float_str:\n",
    "        base, exponent = float_str.split(\"e\")\n",
    "        if int(exponent) > -10:\n",
    "            return r\"{0} \\times 10^{{{1}\\phantom{{0}}}}\".format(base, int(exponent))\n",
    "        else:\n",
    "            return r\"{0} \\times 10^{{{1}}}\".format(base, int(exponent))\n",
    "    else:\n",
    "        return float_str\n",
    "    \n",
    "\n",
    "def represent(x):\n",
    "\n",
    "    integer_part = round(x)\n",
    "    fractional_part = x - round(x)\n",
    "\n",
    "    if integer_part >= 0:\n",
    "        formatted_integer_part = \"\\phantom{-}\" + str(integer_part)\n",
    "    else:\n",
    "        formatted_integer_part = str(integer_part)\n",
    "    formatted_fractional_part = latex_float(fractional_part)\n",
    "\n",
    "    if fractional_part>0:\n",
    "        string_rep = \"$\" + formatted_integer_part + \"{\\color{gray} +\" + formatted_fractional_part + \"}$\"\n",
    "    elif fractional_part<0:\n",
    "        string_rep = \"$\" + formatted_integer_part + \"{\\color{gray} \" + formatted_fractional_part + \"}$\"\n",
    "    else:\n",
    "        string_rep = \"$\" + formatted_integer_part + \"$\"\n",
    "\n",
    "    return(string_rep)"
   ]
  },
  {
   "cell_type": "code",
   "execution_count": null,
   "id": "b934d8bd-b993-4f86-9c1c-55dabbbabe61",
   "metadata": {},
   "outputs": [],
   "source": [
    "x = 2.00000000124\n",
    "print( represent(x) )\n",
    "\n",
    "x = 1.999999999123\n",
    "print( represent(x) )\n",
    "\n",
    "x = 3\n",
    "print( represent(x) )"
   ]
  },
  {
   "cell_type": "markdown",
   "id": "2772eb46-be9e-4c11-aff2-7f2e12557c2b",
   "metadata": {
    "tags": []
   },
   "source": [
    "## Chern coefficients"
   ]
  },
  {
   "cell_type": "code",
   "execution_count": null,
   "id": "25d1c5e9-7a8c-4c4a-8120-72c43e03997c",
   "metadata": {},
   "outputs": [],
   "source": [
    "def n_t1u1(theta,Ch_t1u1,Ch_t2u2,Ch_t1t2u1u2):\n",
    "    return 1/2 * ( 1/(1-theta) * (Ch_t1u1+Ch_t2u2+2*theta*Ch_t1t2u1u2) + 1/(1+theta) * (Ch_t1u1-Ch_t2u2) )\n",
    "\n",
    "def n_t2u2(theta,Ch_t1u1,Ch_t2u2,Ch_t1t2u1u2):\n",
    "    return 1/2 * ( 1/(1-theta) * (Ch_t1u1+Ch_t2u2+2*theta*Ch_t1t2u1u2) - 1/(1+theta) * (Ch_t1u1-Ch_t2u2) )\n",
    "\n",
    "def n_(theta,Ch_,Ch_t1u1,Ch_t2u2,Ch_t1t2u1u2):\n",
    "    return Ch_ + ( theta**2 * Ch_t1t2u1u2 + theta * n_t1u1(theta,Ch_t1u1,Ch_t2u2,Ch_t1t2u1u2) + theta * n_t2u2(theta,Ch_t1u1,Ch_t2u2,Ch_t1t2u1u2) )"
   ]
  },
  {
   "cell_type": "markdown",
   "id": "2b424c6c-1ec6-4bb7-a8e4-70aa3a71d14e",
   "metadata": {},
   "source": [
    "# Import Data"
   ]
  },
  {
   "cell_type": "code",
   "execution_count": null,
   "id": "f465f530-800b-4b22-94cd-45bb6d5ceac7",
   "metadata": {},
   "outputs": [],
   "source": [
    "files = [x[0] for x in os.walk('./data/')][1::]\n",
    "\n",
    "df = pd.DataFrame()\n",
    "for file in files:\n",
    "    \n",
    "    data = pd.read_json(file+'/params.json',orient='index').transpose()\n",
    "    data[\"key\"] = file[7:]\n",
    "    \n",
    "    if \"tau1\" in data:\n",
    "        \n",
    "        Chern_numbers = np.load(file+\"/chern_numbers_tau1tau2u1u2.npy\",allow_pickle=True)[()]\n",
    "\n",
    "        for label in Chern_numbers:\n",
    "            if label==\"\":\n",
    "                data[\"IDS\"]=Chern_numbers[label].real\n",
    "            else:\n",
    "                data[label]=Chern_numbers[label].real\n",
    "        df = pd.concat([df,data])\n",
    "\n",
    "\n",
    "display(df.set_index('key').sort_index(ascending=False))"
   ]
  },
  {
   "cell_type": "markdown",
   "id": "ebbdf471-d242-4581-abc7-271b510a354b",
   "metadata": {},
   "source": [
    "# Process data"
   ]
  },
  {
   "cell_type": "code",
   "execution_count": null,
   "id": "45dd93b4-217a-4ae3-9bc8-8e66d4335459",
   "metadata": {},
   "outputs": [],
   "source": [
    "keys = ['1700142847','1700143386','1700143909','1700144436','1700144967','1700145500']\n",
    "thetas = np.zeros(len(keys))\n",
    "\n",
    "ChernNumbers = np.zeros((8,len(keys)))\n",
    "\n",
    "for i,key in enumerate(keys):\n",
    "    thetas[i] = df.set_index('key').at[key,'q']\n",
    "    ChernNumbers[0,i] = df.set_index('key').at[key,'IDS']\n",
    "    ChernNumbers[1,i] = df.set_index('key').at[key,'tau1tau2']\n",
    "    ChernNumbers[2,i] = df.set_index('key').at[key,'tau1u1']\n",
    "    ChernNumbers[3,i] = df.set_index('key').at[key,'tau1u2']\n",
    "    ChernNumbers[4,i] = df.set_index('key').at[key,'tau2u1']\n",
    "    ChernNumbers[5,i] = df.set_index('key').at[key,'tau2u2']\n",
    "    ChernNumbers[6,i] = df.set_index('key').at[key,'u1u2']\n",
    "    ChernNumbers[7,i] = df.set_index('key').at[key,'tau1tau2u1u2']\n",
    "\n",
    "ChernCoefficients = np.zeros((8,len(keys)))\n",
    "\n",
    "ChernCoefficients[0] = n_(thetas,ChernNumbers[0],ChernNumbers[2],ChernNumbers[5],ChernNumbers[7])\n",
    "ChernCoefficients[1] = ChernNumbers[1]\n",
    "ChernCoefficients[2] = n_t1u1(thetas,ChernNumbers[2],ChernNumbers[5],ChernNumbers[7])\n",
    "ChernCoefficients[3] = ChernNumbers[3]\n",
    "ChernCoefficients[4] = ChernNumbers[4]\n",
    "ChernCoefficients[5] = n_t2u2(thetas,ChernNumbers[2],ChernNumbers[5],ChernNumbers[7])\n",
    "ChernCoefficients[6] = ChernNumbers[6]\n",
    "ChernCoefficients[7] = ChernNumbers[7]"
   ]
  },
  {
   "cell_type": "markdown",
   "id": "9dff5b8d-0be8-40fa-bdc4-7ef4184771e3",
   "metadata": {},
   "source": [
    "# Display data"
   ]
  },
  {
   "cell_type": "code",
   "execution_count": null,
   "id": "a7e2b05a-41d2-4f31-ba9c-739973915529",
   "metadata": {},
   "outputs": [],
   "source": [
    "gaps_col = cm.Set1(range(len(keys)))"
   ]
  },
  {
   "cell_type": "code",
   "execution_count": null,
   "id": "16b434bf-78ec-4733-855a-61e1ae53d64a",
   "metadata": {},
   "outputs": [],
   "source": [
    "CN = {r'$Ch_J$': [r'$Ch_\\emptyset$',r'$Ch_{t_1t_2}$',r'$Ch_{t_1u_1}$','$Ch_{t_1u_2}$',r'$Ch_{t_2u_1}$',r'$Ch_{t_2u_2}$',r'$Ch_{u_1u_2}$',r'$Ch_{t_1t_2u_1u_2}$']}\n",
    "\n",
    "for i in range(len(keys)):\n",
    "    a,b,c,_ = gaps_col[i]\n",
    "    CN[gap_bullet(a,b,c)] = ChernNumbers[:,i]\n",
    "\n",
    "CN = pd.DataFrame(CN)\n",
    "\n",
    "CC = {r'$n_J$' : [r'$n_\\emptyset$',r'$n_{t_1t_2}$',r'$n_{t_1u_1}$',r'$n_{t_1u_2}$',r'$n_{t_2u_1}$',r'$n_{t_2u_2}$',r'$n_{u_1u_2}$',r'$n_{t_1t_2u_1u_2}$']}\n",
    "\n",
    "for i in range(len(keys)):\n",
    "    a,b,c,_ = gaps_col[i]\n",
    "    CC[gap_bullet(a,b,c)] = ChernCoefficients[:,i]\n",
    "\n",
    "CC = pd.DataFrame(CC)\n",
    "\n",
    "display(CN,CC)"
   ]
  },
  {
   "cell_type": "code",
   "execution_count": null,
   "id": "f7b9c6a9-f82b-411f-9796-d4a08083a230",
   "metadata": {},
   "outputs": [],
   "source": [
    "print(CN.to_latex(index=False,\n",
    "                  float_format=\"{:.8f}\".format,\n",
    "                  escape = False,\n",
    "                  # column_format='l|llllll'\n",
    "))\n",
    "\n",
    "print(CC.to_latex(index=False,\n",
    "                  float_format=represent,\n",
    "                  escape = False,\n",
    "                  # column_format='l|llllll'\n",
    "))\n",
    "\n",
    "with open('./tables/ChernNumber_Table.txt', 'w') as f:\n",
    "    f.write(CN.to_latex(index=False,\n",
    "                        float_format=\"{:.8f}\".format,\n",
    "                        escape = False,\n",
    "                        # column_format='l|llllll'\n",
    "                       )\n",
    "           )\n",
    "with open('./tables/ChernCoefficient_Table.txt', 'w') as f:\n",
    "    f.write(CC.to_latex(index=False,\n",
    "                        float_format=represent,\n",
    "                        escape = False,\n",
    "                        # column_format='l|llllll'\n",
    "                       )\n",
    "           )"
   ]
  }
 ],
 "metadata": {
  "kernelspec": {
   "display_name": "Python 3 (ipykernel)",
   "language": "python",
   "name": "python3"
  },
  "language_info": {
   "codemirror_mode": {
    "name": "ipython",
    "version": 3
   },
   "file_extension": ".py",
   "mimetype": "text/x-python",
   "name": "python",
   "nbconvert_exporter": "python",
   "pygments_lexer": "ipython3",
   "version": "3.9.7"
  }
 },
 "nbformat": 4,
 "nbformat_minor": 5
}
