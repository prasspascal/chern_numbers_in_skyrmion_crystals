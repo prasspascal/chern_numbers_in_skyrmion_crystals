{
 "cells": [
  {
   "cell_type": "markdown",
   "metadata": {},
   "source": [
    "# Analysis of the SkX phase on the triangular lattice"
   ]
  },
  {
   "cell_type": "markdown",
   "metadata": {},
   "source": [
    "## Header"
   ]
  },
  {
   "cell_type": "code",
   "execution_count": null,
   "metadata": {},
   "outputs": [],
   "source": [
    "import numpy as np\n",
    "from numpy import linalg\n",
    "from numba import jit\n",
    "import math\n",
    "import matplotlib as mpl\n",
    "from matplotlib import cm\n",
    "import matplotlib.pyplot as plt\n",
    "import matplotlib.colors as colors\n",
    "from matplotlib.colors import SymLogNorm\n",
    "import matplotlib.transforms as mtransforms\n",
    "from matplotlib.ticker import (MultipleLocator, AutoMinorLocator)\n",
    "from scipy.constants import pi\n",
    "from scipy.interpolate import RectBivariateSpline, griddata\n",
    "\n",
    "import os\n",
    "import ast\n",
    "import pandas as pd\n",
    "\n",
    "def set_pandas_display_options() -> None:\n",
    "    \"\"\"Set pandas display options.\"\"\"\n",
    "    # Ref: https://stackoverflow.com/a/52432757/\n",
    "    display = pd.options.display\n",
    "\n",
    "    display.max_columns = None\n",
    "    display.max_rows = None\n",
    "    display.max_colwidth = None\n",
    "    display.width = None\n",
    "    display.precision = None  # set as needed\n",
    "    display.float_format = '{:,.8f}'.format"
   ]
  },
  {
   "cell_type": "markdown",
   "metadata": {},
   "source": [
    "## Data Import"
   ]
  },
  {
   "cell_type": "markdown",
   "metadata": {},
   "source": [
    "Importing data to pandas dataframe"
   ]
  },
  {
   "cell_type": "code",
   "execution_count": null,
   "metadata": {},
   "outputs": [],
   "source": [
    "files = [x[0] for x in os.walk('./data/')][1::]\n",
    "\n",
    "df = pd.DataFrame()\n",
    "for file in files:\n",
    "    data = pd.read_json(file+'/params.json',orient='index').transpose()\n",
    "    data[\"key\"] = file[7:]\n",
    "    \n",
    "    if \"tau1\" in data:\n",
    "        \n",
    "        Chern_numbers = np.load(file+\"/chern_numbers_tau1tau2u1u2.npy\",allow_pickle=True)[()]\n",
    "\n",
    "        for label in Chern_numbers:\n",
    "            if label==\"\":\n",
    "                data[\"IDS\"]=Chern_numbers[label].real\n",
    "            else:\n",
    "                data[label]=Chern_numbers[label].real\n",
    "        df = pd.concat([df,data])\n",
    "        \n",
    "    if \"n_moments\" in data:\n",
    "        df = pd.concat([df,data])\n",
    "    \n",
    "display(df.set_index('key').sort_index(ascending=False))"
   ]
  },
  {
   "cell_type": "code",
   "execution_count": null,
   "metadata": {},
   "outputs": [],
   "source": [
    "key = '1700658946'\n",
    "\n",
    "gap_keys = ['1700142847','1700143386','1700143909','1700144436','1700144967','1700145500']"
   ]
  },
  {
   "cell_type": "code",
   "execution_count": null,
   "metadata": {},
   "outputs": [],
   "source": [
    "# parameter\n",
    "tex, sys_size = df.set_index('key').at[key,'texture'], df.set_index('key').at[key,'system_sizes'],\n",
    "t, m = df.set_index('key').at[key,'t'], df.set_index('key').at[key,'m'],\n",
    "shift, mag = df.set_index('key').at[key,'shift'], df.set_index('key').at[key,'mag'],\n",
    "n_energies, n_moments, n_random_states = df.set_index('key').at[key,'n_energies'], df.set_index('key').at[key,'n_moments'], df.set_index('key').at[key,'n_random_states'],\n",
    "scale, epsilon = 12, 0.01,\n",
    "\n",
    "# data\n",
    "qs = np.array([i/sys_size for i in range(1,math.floor(sys_size/2))])\n",
    "flux = np.concatenate((qs,np.array([1-q for q in qs[::-1]])))\n",
    "\n",
    "emesh = scale*np.linspace(-1, 1, n_energies) * (1-epsilon)\n",
    "\n",
    "n_q = len(qs)\n",
    "dos = []\n",
    "for i in range(n_q):\n",
    "    dos.append( np.load('./data/'+key+'/dos_'+str(i).zfill(4)+'.npy') )\n",
    "dos = np.array(dos)  \n",
    "dos = np.concatenate((dos,dos[::-1]))\n",
    "\n",
    "Emin = np.amin(emesh)\n",
    "Emax = np.amax(emesh)\n",
    "\n",
    "phimin = np.amin(flux)\n",
    "phimax = np.amax(flux)\n",
    "\n",
    "fermis = np.zeros(len(gap_keys))\n",
    "thetas = np.zeros(len(gap_keys))\n",
    "for i,k in enumerate(gap_keys):\n",
    "    fermis[i] = df.set_index('key').at[k,'fermi']\n",
    "    thetas[i] = df.set_index('key').at[k,'q']"
   ]
  },
  {
   "cell_type": "markdown",
   "metadata": {},
   "source": [
    "## Plot"
   ]
  },
  {
   "cell_type": "code",
   "execution_count": null,
   "metadata": {},
   "outputs": [],
   "source": [
    "set_pandas_display_options()\n",
    "plt.rcParams['figure.figsize'] = [12, 6]\n",
    "plt.rcParams['savefig.facecolor'] = \"white\"\n",
    "mpl.rcParams['figure.dpi'] = 300\n",
    "mpl.rcParams['axes.linewidth'] = 1\n",
    "mpl.rcParams['mathtext.fontset'] = 'stix'\n",
    "mpl.rcParams['font.family'] = 'STIXGeneral'\n",
    "tfs    = 30 #title font size\n",
    "lfs    = 24 #label font size\n",
    "fs     = 20 #font size\n",
    "cbarfs = 20 #colorbar font size\n",
    "\n",
    "linthresh = 0.07 # The range within which the plot is linear\n",
    "linscale = 1   # The factor by which data smaller than `linthresh` is scaled.\n",
    "norm = SymLogNorm(linthresh=linthresh, linscale=linscale)"
   ]
  },
  {
   "cell_type": "code",
   "execution_count": null,
   "metadata": {},
   "outputs": [],
   "source": [
    "x_ticks = np.arange(0, 1.1, 0.1)\n",
    "\n",
    "plt.imshow(dos.T, aspect='auto',norm=norm, extent=(0,1, Emin, Emax), interpolation='gaussian', origin = 'lower', resample=True,cmap='Blues');\n",
    "ax = plt.gca()\n",
    "ax.set_xlabel(r\"$\\vartheta$\",fontsize=lfs)\n",
    "ax.set_ylabel(r\"$E_F$\",labelpad=-20,fontsize=lfs)\n",
    "ax.set_xticks(x_ticks)\n",
    "ax.tick_params(axis='both', which='major', labelsize=fs)\n",
    "ax.set_ylim( (-11,8))\n",
    "\n",
    "cbar = plt.colorbar(pad=0.02)\n",
    "cbar.set_label(label=r'DOS (a.u.)', size=lfs)\n",
    "cbar.ax.tick_params(labelsize=fs)\n",
    "\n",
    "#attaching gap labels\n",
    "gaps = np.array([(thetas[i],fermis[i]) for i in range(len(gap_keys))]) # s=0,s=pi , m=0.0\n",
    "\n",
    "gaps_col = cm.Set1(range(len(gap_keys)))\n",
    "plt.scatter(gaps[:,0],gaps[:,1],c=gaps_col,s=40)\n",
    "\n",
    "plt.tight_layout()\n",
    "plt.savefig(\"./plots/DoS_kpm_0shift0mag\", dpi=300, bbox_inches = 'tight')\n",
    "plt.savefig(\"./plots/lowres/DoS_kpm_0shift0mag\", dpi=100, bbox_inches = 'tight')"
   ]
  }
 ],
 "metadata": {
  "kernelspec": {
   "display_name": "Python 3 (ipykernel)",
   "language": "python",
   "name": "python3"
  },
  "language_info": {
   "codemirror_mode": {
    "name": "ipython",
    "version": 3
   },
   "file_extension": ".py",
   "mimetype": "text/x-python",
   "name": "python",
   "nbconvert_exporter": "python",
   "pygments_lexer": "ipython3",
   "version": "3.9.7"
  }
 },
 "nbformat": 4,
 "nbformat_minor": 4
}
