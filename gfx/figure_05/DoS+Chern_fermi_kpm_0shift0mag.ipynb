{
 "cells": [
  {
   "cell_type": "markdown",
   "id": "1b5a5b25-c2c0-4f82-a70a-801561e83e6b",
   "metadata": {
    "tags": []
   },
   "source": [
    "# Import packages and set parameters"
   ]
  },
  {
   "cell_type": "code",
   "execution_count": null,
   "id": "1d093d69-4adf-48b1-acd0-c803ff5eb35b",
   "metadata": {},
   "outputs": [],
   "source": [
    "import numpy as np\n",
    "from numpy import linalg\n",
    "from numba import jit\n",
    "import math\n",
    "import matplotlib as mpl\n",
    "import matplotlib.pyplot as plt\n",
    "from matplotlib.colors import SymLogNorm\n",
    "import matplotlib.colors as colors\n",
    "import matplotlib.transforms as mtransforms\n",
    "from matplotlib.ticker import (MultipleLocator, AutoMinorLocator)\n",
    "\n",
    "from scipy.constants import pi\n",
    "from scipy.interpolate import RectBivariateSpline, griddata\n",
    "\n",
    "import os\n",
    "import ast\n",
    "import pandas as pd\n",
    "\n",
    "def set_pandas_display_options() -> None:\n",
    "    \"\"\"Set pandas display options.\"\"\"\n",
    "    # Ref: https://stackoverflow.com/a/52432757/\n",
    "    display = pd.options.display\n",
    "\n",
    "    display.max_columns = None\n",
    "    display.max_rows = None\n",
    "    display.max_colwidth = None\n",
    "    display.width = None\n",
    "    display.chop_threshold = None\n",
    "    display.precision = 14  # set as needed\n",
    "\n",
    "set_pandas_display_options()"
   ]
  },
  {
   "cell_type": "markdown",
   "id": "f2b4c144-d5a3-44e7-910e-85b3f0d5509b",
   "metadata": {
    "tags": []
   },
   "source": [
    "# Define methods"
   ]
  },
  {
   "cell_type": "markdown",
   "id": "9448ec39-f5ea-4e79-b3a6-000c98ad87f1",
   "metadata": {
    "tags": []
   },
   "source": [
    "## Gap detection in DOS"
   ]
  },
  {
   "cell_type": "code",
   "execution_count": null,
   "id": "f74a6308-1d6b-4073-b498-d283e85e1327",
   "metadata": {},
   "outputs": [],
   "source": [
    "@jit(nopython=True)\n",
    "def gap_detector(fermis, IDS, min_IDS_width = 0.001, min_energy_width = 0.1):\n",
    "    gaps = np.zeros((0,2),dtype=np.float64)\n",
    "    \n",
    "    i = 0\n",
    "    while i <= IDS.size:\n",
    "\n",
    "        j = 1\n",
    "        while abs(IDS[i+j]-IDS[i]) < min_IDS_width:\n",
    "            if j+i == IDS.size-1:\n",
    "                break\n",
    "            else:\n",
    "                j +=1\n",
    "        else:\n",
    "            if abs(fermis[i+j]-fermis[i]) > min_energy_width:\n",
    "                gaps = np.append(gaps,np.array([[fermis[i],fermis[i+j]]]),axis=0)\n",
    "                i += j\n",
    "                continue\n",
    "            else:\n",
    "                i +=1\n",
    "                continue\n",
    "        \n",
    "        return gaps"
   ]
  },
  {
   "cell_type": "markdown",
   "id": "6a74eb37-6b15-4699-99dd-1425fdd564b4",
   "metadata": {
    "tags": []
   },
   "source": [
    "# Import data"
   ]
  },
  {
   "cell_type": "markdown",
   "id": "a7801a6e-625d-421d-abf1-5b2b6c6f9ba8",
   "metadata": {
    "tags": []
   },
   "source": [
    "## Read files for parameters"
   ]
  },
  {
   "cell_type": "code",
   "execution_count": null,
   "id": "58eb3894-0961-4a72-853e-e003ac2e87cb",
   "metadata": {},
   "outputs": [],
   "source": [
    "files = [x[0] for x in os.walk('./data/')][1::]\n",
    "df = pd.DataFrame()\n",
    "for file in files:\n",
    "    \n",
    "    data = pd.read_json(file+'/params.json',orient='index').transpose()\n",
    "    data[\"key\"] = file[7:]\n",
    "    \n",
    "    if \"n_fermi\" in data:\n",
    "        df = pd.concat([df,data])\n",
    "    if \"n_moments\" in data:\n",
    "        df = pd.concat([df,data])\n",
    "\n",
    "display(df.set_index('key').sort_index(ascending=False))"
   ]
  },
  {
   "cell_type": "markdown",
   "id": "24dc28b5-0044-4d0b-9ac6-0bfe93f0e64c",
   "metadata": {
    "tags": []
   },
   "source": [
    "## Select data"
   ]
  },
  {
   "cell_type": "markdown",
   "id": "2b4ad7b1-0e69-44c1-851f-4facace4b86e",
   "metadata": {},
   "source": [
    "### skx"
   ]
  },
  {
   "cell_type": "code",
   "execution_count": null,
   "id": "fdf18e40-6aa5-4ffd-8159-6ed3a8b908e9",
   "metadata": {},
   "outputs": [],
   "source": [
    "key_spec, key_fermi_l, key_fermi_r = '1700658946', '1700736286', '1700228966' # m=0 s=0 theta_l=0.175 theta_r=0.377"
   ]
  },
  {
   "cell_type": "markdown",
   "id": "e32a49a6-7ad8-4fe8-a455-d44d4e7201de",
   "metadata": {
    "tags": []
   },
   "source": [
    "## Import file and extract data"
   ]
  },
  {
   "cell_type": "code",
   "execution_count": null,
   "id": "1f7c8a98-866c-45b6-b88a-aea4b7685f10",
   "metadata": {},
   "outputs": [],
   "source": [
    "# parameter\n",
    "size_l,  size_r  = df.set_index('key').at[key_fermi_l,'system_sizes'], df.set_index('key').at[key_fermi_r,'system_sizes']\n",
    "theta_l, theta_r = df.set_index('key').at[key_fermi_l,'q'],            df.set_index('key').at[key_fermi_r,'q']\n",
    "\n",
    "sys_size         = df.set_index('key').at[key_spec,'system_sizes']\n",
    "t,       m       = df.set_index('key').at[key_spec,'t'],               df.set_index('key').at[key_spec,'m']\n",
    "shift,   mag     = df.set_index('key').at[key_spec,'shift'],           df.set_index('key').at[key_spec,'mag']\n",
    "\n",
    "n_energies, n_moments, n_random_states = df.set_index('key').at[key_spec,'n_energies'], df.set_index('key').at[key_spec,'n_moments'], df.set_index('key').at[key_spec,'n_random_states'],\n",
    "scale, epsilon = 12, 0.01,\n",
    "\n",
    "n_fermi_l, min_fermi_l, max_fermi_l = df.set_index('key').at[key_fermi_l,'n_fermi'],  df.set_index('key').at[key_fermi_l,'min_fermi'], df.set_index('key').at[key_fermi_l,'max_fermi']\n",
    "n_fermi_r, min_fermi_r, max_fermi_r = df.set_index('key').at[key_fermi_r,'n_fermi'],  df.set_index('key').at[key_fermi_r,'min_fermi'], df.set_index('key').at[key_fermi_r,'max_fermi']\n",
    "\n",
    "# Data\n",
    "outdir_fermi_l = './data/' + key_fermi_l\n",
    "outdir_fermi_r = './data/' + key_fermi_r\n",
    "outdir_spec    = './data/' + key_spec\n",
    "\n",
    "# DOS\n",
    "fermis_l = np.linspace(min_fermi_l,max_fermi_l,n_fermi_l)\n",
    "fermis_r = np.linspace(min_fermi_r,max_fermi_r,n_fermi_r)\n",
    "\n",
    "spectrum_l = np.load(outdir_fermi_l+\"/spectrum.npy\")\n",
    "spectrum_r = np.load(outdir_fermi_r+\"/spectrum.npy\")\n",
    "\n",
    "# Chern numbers\n",
    "ch_0_l = np.array([])\n",
    "for f in fermis_l:\n",
    "    occ = np.array([1 if energy <= f else 0 for energy in spectrum_l])\n",
    "    ch_0_l = np.append(ch_0_l,[sum(occ)/size_l**2])\n",
    "    \n",
    "ch_tau1tau2_l     = np.load(outdir_fermi_l+\"/ch_tau1tau2.npy\")\n",
    "ch_u1u2_l         = np.load(outdir_fermi_l+\"/ch_u1u2.npy\")\n",
    "ch_tau1tau2u1u2_l = np.load(outdir_fermi_l+\"/ch_tau1tau2u1u2.npy\")\n",
    "\n",
    "ch_0_r = np.array([])\n",
    "for f in fermis_r:\n",
    "    occ = np.array([1 if energy <= f else 0 for energy in spectrum_r])\n",
    "    ch_0_r = np.append(ch_0_r,[sum(occ)/size_r**2])\n",
    "    \n",
    "ch_tau1tau2_r     = np.load(outdir_fermi_r+\"/ch_tau1tau2.npy\")\n",
    "ch_u1u2_r         = np.load(outdir_fermi_r+\"/ch_u1u2.npy\")\n",
    "ch_tau1tau2u1u2_r = np.load(outdir_fermi_r+\"/ch_tau1tau2u1u2.npy\")\n",
    "    \n",
    "# data\n",
    "qs = np.array([i/sys_size for i in range(1,math.floor(sys_size/2))])\n",
    "\n",
    "emesh = scale*np.linspace(-1, 1, n_energies) * (1-epsilon)\n",
    "\n",
    "n_q = len(qs)\n",
    "dos = []\n",
    "for i in range(n_q):\n",
    "    dos.append( np.load('./data/'+key_spec+'/dos_'+str(i).zfill(4)+'.npy') )\n",
    "dos = np.array(dos)\n",
    "\n",
    "Emin = np.amin(emesh)\n",
    "Emax = np.amax(emesh)\n",
    "\n",
    "phimin = np.amin(qs)\n",
    "phimax = np.amax(qs)"
   ]
  },
  {
   "cell_type": "markdown",
   "id": "6f524c26-3b7d-4e09-8cbb-8688f169c0db",
   "metadata": {
    "tags": []
   },
   "source": [
    "# Plots"
   ]
  },
  {
   "cell_type": "code",
   "execution_count": null,
   "id": "fe5201a8-effa-4bbd-82fb-bf1e87bdbf0f",
   "metadata": {
    "tags": []
   },
   "outputs": [],
   "source": [
    "# Plot parameter\n",
    "mpl.pyplot.rcdefaults()\n",
    "plt.rcParams['figure.figsize'] = [20, 10]\n",
    "plt.rcParams['savefig.facecolor'] = \"white\"\n",
    "mpl.rcParams['axes.linewidth'] = 1.2\n",
    "mpl.rcParams['mathtext.fontset'] = 'stix'\n",
    "mpl.rcParams['font.family'] = 'STIXGeneral'\n",
    "\n",
    "tfs    = 24 #title font size\n",
    "lfs    = 24 #label font size\n",
    "fs     = 24 #font size\n",
    "cbarfs = 18 #colorbar font size\n",
    "afs    = 24 #annotation font size\n",
    "gfs    = 18 #gap font size\n",
    "\n",
    "# scatter size\n",
    "s = 2\n",
    "\n",
    "linthresh = 0.07 # The range within which the plot is linear\n",
    "linscale = 1   # The factor by which data smaller than `linthresh` is scaled.\n",
    "norm = SymLogNorm(linthresh=linthresh, linscale=linscale)"
   ]
  },
  {
   "cell_type": "markdown",
   "id": "a5362302-9be8-4490-8517-ee72bef32d9e",
   "metadata": {
    "tags": []
   },
   "source": [
    "# DoS + Chern"
   ]
  },
  {
   "cell_type": "code",
   "execution_count": null,
   "id": "067f5ca5-2db1-4527-a384-747741d26147",
   "metadata": {},
   "outputs": [],
   "source": [
    "gaps_l = gap_detector(fermis_l,ch_0_l,0.001,0.1)\n",
    "gaps_r = gap_detector(fermis_r,ch_0_r,0.001,0.1)\n",
    "print(gaps_l.shape,gaps_r.shape)\n",
    "# print(gaps_l)\n",
    "# print([sum(g)/2 for g in gaps_l])"
   ]
  },
  {
   "cell_type": "code",
   "execution_count": null,
   "id": "c8dd10ca-cd6f-40f8-80fb-8dfd7ab2c8e7",
   "metadata": {},
   "outputs": [],
   "source": [
    "# x_ticks0 = np.arange(0, 3, 1)\n",
    "x_ticks1 = np.arange(0, 2, 1)\n",
    "x_ticks2 = np.arange(-10, 15, 5)\n",
    "x_ticks3 = np.arange(-10, 5, 5)\n",
    "x_ticks4 = np.arange(0.1, 0.5, 0.1)  \n",
    "# x_ticks5 = np.arange(0, 3, 1)\n",
    "x_ticks6 = np.arange(0, 2, 1)\n",
    "x_ticks7 = np.arange(-2, 3, 2)\n",
    "x_ticks8 = np.arange(-5, 10, 5)\n",
    "y_ticks = np.arange(-10, 8, 2)\n",
    "    \n",
    "fig = plt.figure()\n",
    "gs = fig.add_gridspec(1,32, hspace=0,wspace=0)\n",
    "# ax0 = plt.subplot(gs.new_subplotspec((0, 0), colspan=2))\n",
    "ax1 = plt.subplot(gs.new_subplotspec((0, 0), colspan=2))\n",
    "ax2 = plt.subplot(gs.new_subplotspec((0, 2), colspan=6),sharey=ax1)\n",
    "ax3 = plt.subplot(gs.new_subplotspec((0, 8), colspan=4),sharey=ax1)\n",
    "ax4 = plt.subplot(gs.new_subplotspec((0, 12), colspan=8),sharey=ax1)\n",
    "# ax5 = plt.subplot(gs.new_subplotspec((0, 18), colspan=2),sharey=ax0)\n",
    "ax6 = plt.subplot(gs.new_subplotspec((0, 20), colspan=2),sharey=ax1)\n",
    "ax7 = plt.subplot(gs.new_subplotspec((0, 22), colspan=5),sharey=ax1)\n",
    "ax8 = plt.subplot(gs.new_subplotspec((0, 27), colspan=5),sharey=ax1)\n",
    "\n",
    "# ax0.scatter(ch_0_l,fermis_l,s)\n",
    "# ax0.set_xticks(x_ticks0)\n",
    "# ax0.xaxis.set_minor_locator(MultipleLocator(0.2))\n",
    "# ax0.set_xlim([2.05,-0.05])\n",
    "# ax0.set_title(r'IDS',fontsize=tfs,y=1.01)\n",
    "\n",
    "ax1.scatter(ch_u1u2_l.real,fermis_l,s)\n",
    "ax1.set_xticks(x_ticks1)\n",
    "ax1.xaxis.set_minor_locator(MultipleLocator(0.5))\n",
    "ax1.grid(True,which='minor',color='lightgray',axis='x')\n",
    "ax1.set_xlim([-1,2])\n",
    "ax1.set_ylabel(r'$E_F$',labelpad=-20.0,fontsize=lfs)\n",
    "ax1.set_title(r'$Ch_{u_1 u_2}$',fontsize=tfs,y=1.005)\n",
    "\n",
    "ax2.scatter(ch_tau1tau2_l.real,fermis_l,s)\n",
    "ax2.set_xticks(x_ticks2)\n",
    "ax2.xaxis.set_minor_locator(MultipleLocator(1))\n",
    "ax2.grid(True,which='minor',color='lightgray',axis='x')\n",
    "ax2.set_xlim([-12,14])\n",
    "ax2.set_title(r'$Ch_{t_1 t_2}$',fontsize=tfs,y=1.005)\n",
    "\n",
    "ax3.scatter(ch_tau1tau2u1u2_l.real,fermis_l,s)\n",
    "ax3.set_xticks(x_ticks3)\n",
    "ax3.xaxis.set_minor_locator(MultipleLocator(1))\n",
    "ax3.grid(True,which='minor',color='lightgray',axis='x')\n",
    "ax3.set_xlim([-15,5])\n",
    "ax3.set_title(r'$Ch_{t_1 t_2 u_1 u_2}$',fontsize=tfs,y=1.005)\n",
    "\n",
    "ax4.imshow(dos.T, aspect='auto',norm=norm, extent=(phimin,phimax, Emin, Emax), interpolation='gaussian', origin = 'lower', resample=True,cmap='Blues');\n",
    "ax4.set_xticks(x_ticks4)\n",
    "ax4.set_xlim([phimin,phimax])\n",
    "ax4.xaxis.set_minor_locator(MultipleLocator(0.05))\n",
    "ax4.set_title(r\"$\\text{DOS}$\",fontsize=tfs,y=1.005)\n",
    "ax4.set_xlabel(r\"$\\vartheta$\",fontsize=lfs)\n",
    "\n",
    "ax4.axvline(x = theta_l, color = 'red', label = r'$\\theta_l$')\n",
    "ax4.annotate(r'$\\vartheta=\\frac{{ {:.0f} }}{{ {:.0f} }}$'.format(theta_l*size_l,size_l),(theta_l+0.01,-0.6),color='red',fontsize=afs)\n",
    "ax4.axvline(x = theta_r, color = 'green', label = r'$\\theta_r$')\n",
    "ax4.annotate(r'$\\vartheta=\\frac{{ {:.0f} }}{{ {:.0f} }}$'.format(theta_r*size_r,size_r),(theta_r-0.11,-2.2),color='green',fontsize=afs)\n",
    "\n",
    "ax4.annotate(r'$U-1$',(0.005,7.4),color='black',fontsize=gfs)\n",
    "ax4.annotate(r'$U-2$',(0.005,6.9),color='black',fontsize=gfs)\n",
    "\n",
    "ax4.annotate(r'$U1$',(0.01,0.06),color='black',fontsize=gfs)\n",
    "ax4.annotate(r'$U2$',(0.05,0.7),color='black',fontsize=gfs)\n",
    "ax4.annotate(r'$U3$',(0.01,1.35),color='black',fontsize=gfs)\n",
    "ax4.annotate(r'$U4$',(0.05,1.8),color='black',fontsize=gfs)\n",
    "ax4.annotate(r'$U5$',(0.01,2.3),color='black',fontsize=gfs)\n",
    "ax4.annotate(r'$U6$',(0.05,2.85),color='black',fontsize=gfs)\n",
    "ax4.annotate(r'$U7$',(0.01,3.2),color='black',fontsize=gfs)\n",
    "ax4.annotate(r'$U8$',(0.05,3.55),color='black',fontsize=gfs)\n",
    "ax4.annotate(r'$U9$',(0.01,3.95),color='black',fontsize=gfs)\n",
    "ax4.annotate(r'$U10$',(0.045,4.3),color='black',fontsize=gfs)\n",
    "\n",
    "ax4.annotate(r'$U1$',(0.455,3.1),color='black',fontsize=gfs)\n",
    "ax4.annotate(r'$U2$',(0.455,4.3),color='black',fontsize=gfs)\n",
    "\n",
    "ax4.annotate(r'$L-1$',(0.005,-2.6),color='black',fontsize=gfs)\n",
    "\n",
    "ax4.annotate(r'$L1$',(0.01,-10.05),color='black',fontsize=gfs)\n",
    "ax4.annotate(r'$L2$',(0.01,-9.6),color='black',fontsize=gfs)\n",
    "\n",
    "ax4.annotate(r'$L2$',(0.455,-6.7),color='black',fontsize=gfs)\n",
    "\n",
    "# ax5.scatter(ch_0_r,fermis_r,s)\n",
    "# ax5.set_xticks(x_ticks5)\n",
    "# ax5.xaxis.set_minor_locator(MultipleLocator(0.2))\n",
    "# ax5.set_xlim([2.05,-0.05])\n",
    "# ax5.set_title(r'IDS',fontsize=tfs,y=1.01)\n",
    "\n",
    "ax6.scatter(ch_u1u2_r.real,fermis_r,s)\n",
    "ax6.set_xticks(x_ticks6)\n",
    "ax6.xaxis.set_minor_locator(MultipleLocator(0.5))\n",
    "ax6.grid(True,which='minor',color='lightgray',axis='x')\n",
    "ax6.set_xlim([-1,2])\n",
    "ax6.set_title(r'$Ch_{u_1 u_2}$',fontsize=tfs,y=1.005)\n",
    "\n",
    "ax7.scatter(ch_tau1tau2_r.real,fermis_r,s)\n",
    "ax7.set_xticks(x_ticks7)\n",
    "ax7.xaxis.set_minor_locator(MultipleLocator(1))\n",
    "ax7.grid(True,which='minor',color='lightgray',axis='x')\n",
    "ax7.set_xlim([-4,3])\n",
    "ax7.set_title(r'$Ch_{t_1 t_2}$',fontsize=tfs,y=1.005)\n",
    "\n",
    "ax8.scatter(ch_tau1tau2u1u2_r.real,fermis_r,s)\n",
    "ax8.set_xticks(x_ticks8)\n",
    "ax8.xaxis.set_minor_locator(MultipleLocator(1))\n",
    "ax8.grid(True,which='minor',color='lightgray',axis='x')\n",
    "ax8.set_xlim([-8,8])\n",
    "ax8.set_title(r'$Ch_{t_1 t_2 u_1 u_2}$',fontsize=tfs,y=1.005)\n",
    "ax8.set_ylabel(r'$E_F$',fontsize=lfs)\n",
    "ax8.yaxis.set_label_position(\"right\")\n",
    "ax8.get_yaxis().set_visible(False)\n",
    "\n",
    "for ax in fig.get_axes():\n",
    "    ax.yaxis.set_minor_locator(MultipleLocator(0.5))\n",
    "    ax.tick_params(axis='both', which='major', labelsize=fs)\n",
    "    ax.set_yticks(y_ticks)\n",
    "    ax.set_ylim([-11,8])\n",
    "    \n",
    "for ax in fig.get_axes()[0:3]:\n",
    "    ax.grid(True,color='gray',axis='x')\n",
    "    #ax.grid(True,which='minor',color='lightgray')\n",
    "    \n",
    "    for g in gaps_l:\n",
    "        ax.fill_between(np.arange(-15,15,0.01),g[0],g[1], facecolor='gray', alpha=0.5)\n",
    "        \n",
    "for g in gaps_l:\n",
    "    ax4.fill_between(np.arange(0.0,theta_l,0.001),g[0],g[1], facecolor='gray', alpha=0.5)\n",
    "for g in gaps_r:\n",
    "    ax4.fill_between(np.arange(theta_r,0.51,0.001),g[0],g[1], facecolor='gray', alpha=0.5)\n",
    "    \n",
    "for ax in fig.get_axes()[4:7]:\n",
    "    ax.yaxis.tick_right()\n",
    "    ax.grid(True,color='gray',axis='x')\n",
    "    #ax.grid(True,which='minor',color='lightgray')\n",
    "    \n",
    "    for g in gaps_r:\n",
    "        ax.fill_between(np.arange(-15,15,0.001),g[0],g[1], facecolor='gray', alpha=0.5)\n",
    "        \n",
    "for ax in fig.get_axes()[1:]:\n",
    "    ax.yaxis.tick_right()\n",
    "\n",
    "plt.savefig(\"./Plots/Chernhierarchy_kpm_0shift0mag.png\", dpi=300, bbox_inches = 'tight')\n",
    "plt.savefig(\"./Plots/lowres/Chernhierarchy_kpm_0shift0mag.png\", dpi=100, bbox_inches = 'tight')"
   ]
  },
  {
   "cell_type": "code",
   "execution_count": null,
   "id": "14025736-789f-42a0-bcf7-e94fa95a3db3",
   "metadata": {},
   "outputs": [],
   "source": []
  }
 ],
 "metadata": {
  "kernelspec": {
   "display_name": "Python 3 (ipykernel)",
   "language": "python",
   "name": "python3"
  },
  "language_info": {
   "codemirror_mode": {
    "name": "ipython",
    "version": 3
   },
   "file_extension": ".py",
   "mimetype": "text/x-python",
   "name": "python",
   "nbconvert_exporter": "python",
   "pygments_lexer": "ipython3",
   "version": "3.9.7"
  }
 },
 "nbformat": 4,
 "nbformat_minor": 5
}
