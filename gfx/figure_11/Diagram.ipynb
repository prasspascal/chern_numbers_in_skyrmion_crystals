{
 "cells": [
  {
   "cell_type": "code",
   "execution_count": null,
   "id": "12888a04-f64f-4558-a3ad-20349aa29bbe",
   "metadata": {},
   "outputs": [],
   "source": [
    "import numpy as np\n",
    "from numpy import linalg\n",
    "from numba import jit\n",
    "import seaborn as sns\n",
    "import matplotlib as mpl\n",
    "import matplotlib.pyplot as plt\n",
    "import matplotlib.colors as colors\n",
    "import matplotlib.transforms as mtransforms\n",
    "from matplotlib.gridspec import SubplotSpec\n",
    "from matplotlib.ticker import (MultipleLocator, AutoMinorLocator)\n",
    "\n",
    "from scipy.constants import pi\n",
    "from scipy.interpolate import RectBivariateSpline, griddata\n",
    "\n",
    "import os\n",
    "import ast\n",
    "import pandas as pd\n",
    "\n",
    "def set_pandas_display_options() -> None:\n",
    "    \"\"\"Set pandas display options.\"\"\"\n",
    "    # Ref: https://stackoverflow.com/a/52432757/\n",
    "    display = pd.options.display\n",
    "\n",
    "    display.max_columns = None\n",
    "    display.max_rows = None\n",
    "    display.max_colwidth = None\n",
    "    display.width = None\n",
    "    display.chop_threshold = None\n",
    "    display.precision = 14  # set as needed\n",
    "\n",
    "set_pandas_display_options()"
   ]
  },
  {
   "cell_type": "markdown",
   "id": "ce5cad6d-b348-4dd5-a0a8-934018f51bd7",
   "metadata": {
    "tags": []
   },
   "source": [
    "# Define methods"
   ]
  },
  {
   "cell_type": "code",
   "execution_count": null,
   "id": "300e1bee-4cef-4937-a997-1884978e018a",
   "metadata": {},
   "outputs": [],
   "source": [
    "def mask_singularities(data,cutoff = 2):\n",
    "    '''\n",
    "    If data points have a value bigger than the cutoff, it is replaced by the average value of their neighbours\n",
    "    '''\n",
    "    for i, col in enumerate(data):\n",
    "        for j, e in enumerate(col):\n",
    "            if abs(e)>cutoff:\n",
    "                if i == 0:\n",
    "                    if j == 0:\n",
    "                        data[i][j] = np.average([data[i][j+1],\n",
    "                                                 data[i+1][j],data[i+1][j+1]])\n",
    "                        continue\n",
    "                    elif j == len(col)-1:\n",
    "                        data[i][j] = np.average([data[i][j-1],\n",
    "                                                 data[i+1][j-1],data[i+1][j]])\n",
    "                        continue\n",
    "                    else:\n",
    "                        data[i][j] = np.average([data[i][j-1],data[i][j+1],\n",
    "                                                 data[i+1][j-1],data[i+1][j],data[i+1][j+1]])\n",
    "\n",
    "                elif i == len(data)-1:\n",
    "                    if j == 0:\n",
    "                        data[i][j] = np.average([data[i-1][j],data[i-1][j+1],\n",
    "                                                 data[i][j+1]])\n",
    "                        continue\n",
    "                    elif j == len(col)-1:\n",
    "                        data[i][j] = np.average([data[i-1][j-1],data[i-1][j],\n",
    "                                                 data[i][j-1]])\n",
    "                    else:\n",
    "                        data[i][j] = np.average([data[i-1][j-1],data[i-1][j],data[i-1][j+1],\n",
    "                                                 data[i][j-1],data[i][j+1]])\n",
    "                elif j == 0:\n",
    "                    data[i][j] = np.average([data[i-1][j],data[i-1][j+1],\n",
    "                                             data[i][j+1],\n",
    "                                             data[i+1][j],data[i+1][j+1]])\n",
    "                elif j == len(col)-1:\n",
    "                    data[i][j] = np.average([data[i-1][j-1],data[i-1][j],\n",
    "                                             data[i][j-1],\n",
    "                                             data[i+1][j-1],data[i+1][j]])\n",
    "                else:\n",
    "                    data[i][j] = np.average([data[i-1][j-1],data[i-1][j],data[i-1][j+1],\n",
    "                                             data[i][j-1],data[i][j+1],\n",
    "                                             data[i+1][j-1],data[i+1][j],data[i+1][j+1]])\n",
    "    return data\n",
    "\n",
    "def mirror_quadrant(data,n_shift,n_mag,odd=True):\n",
    "    \"\"\"\n",
    "    mirror first quadrant\n",
    "    \"\"\"\n",
    "    z = np.zeros((2*n_mag-1, 2*n_shift-1))\n",
    "    for i in range(2*n_mag):\n",
    "        for j in range(2*n_shift):\n",
    "            if i < n_mag and j < n_shift:\n",
    "                z[i, j] = (-1)**odd * data[n_mag-1-i, n_shift-1-j]\n",
    "            elif i > n_mag and j < n_shift:\n",
    "                z[i-1, j] = data[i-n_mag, j]\n",
    "            elif i < n_mag and j > n_shift:\n",
    "                z[i, j-1] = (-1)**odd * data[n_mag-1-i, j-n_shift]\n",
    "            elif i > n_mag and j > n_shift:\n",
    "                z[i-1, j-1] = data[i-n_mag, 2*n_shift-1-j]\n",
    "    return z"
   ]
  },
  {
   "cell_type": "markdown",
   "id": "80596c0b-a9d7-4c47-ac44-e5700249e001",
   "metadata": {},
   "source": [
    "# Import data"
   ]
  },
  {
   "cell_type": "markdown",
   "id": "e03ca73a-7fb4-4722-bd92-6bd8f9c87013",
   "metadata": {},
   "source": [
    "## Read files for parameters"
   ]
  },
  {
   "cell_type": "code",
   "execution_count": null,
   "id": "ac809f52-aec3-4d19-b181-614ac34d318b",
   "metadata": {},
   "outputs": [],
   "source": [
    "files = [x[0] for x in os.walk('./data/')][1::]\n",
    "df = pd.DataFrame()\n",
    "for file in files:\n",
    "    data = pd.read_json(file+'/params.json',orient='index').transpose()\n",
    "    data[\"key\"] = file[7:]\n",
    "    if \"n_shift\" in data:\n",
    "        if \"n_mag\" in data:\n",
    "            df = pd.concat([df,data])"
   ]
  },
  {
   "cell_type": "code",
   "execution_count": null,
   "id": "3876a2be-09a9-471a-aa65-1ee6b298e50e",
   "metadata": {},
   "outputs": [],
   "source": [
    "display(df.set_index('key').sort_index(ascending=False))"
   ]
  },
  {
   "cell_type": "markdown",
   "id": "97691e47-3a68-4e1b-b3ef-7b81d4103c29",
   "metadata": {
    "tags": []
   },
   "source": [
    "## Select data"
   ]
  },
  {
   "cell_type": "code",
   "execution_count": null,
   "id": "52ecab71-bc6e-437b-ac3d-2c59dea6bd1c",
   "metadata": {},
   "outputs": [],
   "source": [
    "key = '1700836922'"
   ]
  },
  {
   "cell_type": "markdown",
   "id": "18bc13c7-693f-4685-8f97-f38e0a9addb7",
   "metadata": {
    "tags": []
   },
   "source": [
    "## Import file and extract data"
   ]
  },
  {
   "cell_type": "code",
   "execution_count": null,
   "id": "cbe45052-6ec1-4e2a-981d-d8b3e78f6944",
   "metadata": {},
   "outputs": [],
   "source": [
    "outdir = './data/' + key\n",
    "\n",
    "# parameter\n",
    "tex, size = df.set_index('key').at[key,'texture'], df.set_index('key').at[key,'system_sizes'],\n",
    "t, m = df.set_index('key').at[key,'t'], df.set_index('key').at[key,'m'],\n",
    "theta, ids = df.set_index('key').at[key,'q'], df.set_index('key').at[key,'ids']\n",
    "n_shift, min_shift, max_shift = df.set_index('key').at[key,'n_shift'], df.set_index('key').at[key,'min_shift'], df.set_index('key').at[key,'max_shift']\n",
    "n_mag, min_mag, max_mag = df.set_index('key').at[key,'n_mag'], df.set_index('key').at[key,'min_mag'], df.set_index('key').at[key,'max_mag']\n",
    "save_spec, tau1tau2, u1u2, tau1tau2u1u2 = df.set_index('key').at[key,'save_spec'], df.set_index('key').at[key,'tau1tau2'], df.set_index('key').at[key,'u1u2'], df.set_index('key').at[key,'tau1tau2u1u2']\n",
    "phi, eta = df.set_index('key').at[key,'phi'], df.set_index('key').at[key,'eta']\n",
    "\n",
    "# data\n",
    "shifts = np.linspace(min_shift,max_shift,n_shift)\n",
    "mags = np.linspace(min_mag,max_mag,n_mag)\n",
    "    \n",
    "fermi = np.load(outdir+\"/fermi.npy\").real.reshape((n_mag,n_shift))\n",
    "ch_tau1tau2 = np.load(outdir+\"/ch_tau1tau2.npy\").real.reshape((n_mag,n_shift))\n",
    "ch_u1u2 = np.load(outdir+\"/ch_u1u2.npy\").real.reshape((n_mag,n_shift))\n",
    "ch_tau1tau2u1u2 = np.load(outdir+\"/ch_tau1tau2u1u2.npy\").real.reshape((n_mag,n_shift))"
   ]
  },
  {
   "cell_type": "code",
   "execution_count": null,
   "id": "f08ca69b-cbd6-469e-9aad-93258860d4e3",
   "metadata": {},
   "outputs": [],
   "source": [
    "fig, ax = plt.subplots(2,2)\n",
    "ax[0,0].imshow(fermi,interpolation='nearest',cmap='inferno')\n",
    "ax[0,1].imshow(ch_tau1tau2,vmin=-2,vmax=2,interpolation='nearest',cmap='RdBu')\n",
    "ax[1,0].imshow(ch_u1u2,vmin=-2,vmax=2,interpolation='nearest',cmap='RdBu')\n",
    "ax[1,1].imshow(ch_tau1tau2u1u2,vmin=-2,vmax=2,interpolation='nearest',cmap='RdBu')"
   ]
  },
  {
   "cell_type": "markdown",
   "id": "fd8cf654-3b18-4eab-aa57-863acdfdd7f9",
   "metadata": {},
   "source": [
    "## Preprocessing"
   ]
  },
  {
   "cell_type": "code",
   "execution_count": null,
   "id": "16960b13-fa33-48d7-93e7-32c8e8f095c7",
   "metadata": {},
   "outputs": [],
   "source": [
    "# mask_singularities(ch_tau1tau2,1);\n",
    "# mask_singularities(ch_u1u2,2);\n",
    "# mask_singularities(ch_tau1tau2u1u2,1);"
   ]
  },
  {
   "cell_type": "code",
   "execution_count": null,
   "id": "06be3506-3480-4ef3-9f2d-098272340532",
   "metadata": {},
   "outputs": [],
   "source": [
    "shifts = np.linspace(0,2*np.pi,2*n_shift-1)\n",
    "mags = np.linspace(-2,2,2*n_mag-1)\n",
    "\n",
    "fermi = mirror_quadrant(fermi,n_shift,n_mag,False)\n",
    "ch_tau1tau2 = mirror_quadrant(ch_tau1tau2,n_shift,n_mag,True)\n",
    "ch_u1u2 = mirror_quadrant(ch_u1u2,n_shift,n_mag,True)\n",
    "ch_tau1tau2u1u2 = mirror_quadrant(ch_tau1tau2u1u2,n_shift,n_mag,False)"
   ]
  },
  {
   "cell_type": "markdown",
   "id": "a073d2bb-46e0-4753-aed8-5e3b2176f72e",
   "metadata": {},
   "source": [
    "# Plots"
   ]
  },
  {
   "cell_type": "code",
   "execution_count": null,
   "id": "4ad71608-f731-4dd7-892c-7725dfa1d945",
   "metadata": {},
   "outputs": [],
   "source": [
    "# Plot parameter\n",
    "mpl.pyplot.rcdefaults()\n",
    "plt.rcParams['figure.figsize'] = [20,18]\n",
    "plt.rcParams['savefig.facecolor'] = \"white\"\n",
    "mpl.rcParams['figure.dpi'] = 300\n",
    "mpl.rcParams['axes.linewidth'] = 1.2\n",
    "mpl.rcParams['mathtext.fontset'] = 'stix'\n",
    "mpl.rcParams['font.family'] = 'STIXGeneral'\n",
    "\n",
    "tfs    = 40 #title font size\n",
    "lfs    = 40 #label font size\n",
    "fs     = 40 #font size\n",
    "cbarfs = 18 #colorbar font size\n",
    "\n",
    "shade = 'auto'\n",
    "# shade = 'gouraud'"
   ]
  },
  {
   "cell_type": "markdown",
   "id": "97f6c393-f325-4ad7-ad1c-67a9d748f6c3",
   "metadata": {
    "tags": []
   },
   "source": [
    "### 2x2"
   ]
  },
  {
   "cell_type": "code",
   "execution_count": null,
   "id": "678f9e4e-72ff-4520-bffb-cfccde0507b2",
   "metadata": {},
   "outputs": [],
   "source": [
    "X, Y = np.meshgrid(mags,shifts,indexing=\"ij\")\n",
    "\n",
    "fig = plt.figure()\n",
    "\n",
    "gs = fig.add_gridspec(2,2, hspace=0,wspace=0)\n",
    "ax2 = plt.subplot(gs.new_subplotspec((1, 0), rowspan=1))\n",
    "ax3 = plt.subplot(gs.new_subplotspec((1, 1), rowspan=1),sharey=ax2)\n",
    "ax0 = plt.subplot(gs.new_subplotspec((0, 0), rowspan=1),sharex=ax2)\n",
    "ax1 = plt.subplot(gs.new_subplotspec((0, 1), rowspan=1),sharey=ax0,sharex=ax3)\n",
    "\n",
    "col0 = ax0.pcolormesh(X, Y, fermi, cmap=plt.cm.inferno,shading=shade,snap=True)\n",
    "ax0.set_title(r'$E_F$',fontsize=tfs, x=0.93, y=0.93, loc='left',color='white',backgroundcolor= 'black')\n",
    "ax0.set_xlabel(r'$m$',fontsize=lfs)\n",
    "ax0.set_ylabel(r'$\\varphi$',fontsize=lfs)\n",
    "cbar0 = plt.colorbar(col0,ax=ax1,shrink=0.95)\n",
    "ax0.get_xaxis().set_visible(False)\n",
    "\n",
    "col1 = ax1.pcolormesh(X, Y, ch_tau1tau2, vmin=-2.2,vmax=2.2, cmap=plt.cm.RdBu,shading=shade,snap=True)\n",
    "ax1.set_title(r'$Ch_{t_1 t_2}$',fontsize=tfs, x=0.83, y=0.93, loc='left')\n",
    "ax1.set_xlabel(r'$m$',fontsize=lfs)\n",
    "ax1.set_ylabel(r'$\\varphi$',fontsize=lfs)\n",
    "cbar1 = plt.colorbar(col1,ax=ax3,shrink=0.95,extend='both')\n",
    "cbar1.cmap.set_over('black')\n",
    "cbar1.cmap.set_under('black')\n",
    "ax1.get_xaxis().set_visible(False)\n",
    "ax1.get_yaxis().set_visible(False)\n",
    "\n",
    "col2 = ax2.pcolormesh(X, Y, ch_u1u2, vmin=-2.2,vmax=2.2, cmap=plt.cm.RdBu,shading=shade,snap=True)\n",
    "ax2.set_title(r'$Ch_{u_1 u_2}$',fontsize=tfs, x=0.84, y=0.93, loc='left')\n",
    "ax2.set_xlabel(r'$m$',fontsize=lfs)\n",
    "ax2.set_ylabel(r'$\\varphi$',fontsize=lfs)\n",
    "# plt.colorbar(col2,ax=ax2,shrink=0.75)\n",
    "\n",
    "col3 = ax3.pcolormesh(X, Y, ch_tau1tau2u1u2, vmin=-2.2,vmax=2.2, cmap=plt.cm.RdBu,shading=shade,snap=True)\n",
    "ax3.set_title(r'$Ch_{t_1 t_2 u_1 u_2}$',fontsize=tfs, x=0.73, y=0.92, loc='left')\n",
    "ax3.set_xlabel(r'$m$',fontsize=lfs)\n",
    "ax3.set_ylabel(r'$\\varphi$',fontsize=lfs)\n",
    "ax3.get_yaxis().set_visible(False)\n",
    "# plt.colorbar(col3,ax=ax3,shrink=0.75)\n",
    "\n",
    "ax2.set_xticks(np.linspace(-2,2,4,endpoint=False))\n",
    "ax2.xaxis.set_minor_locator(AutoMinorLocator())\n",
    "ax3.set_xticks(np.linspace(-2,2,5))\n",
    "ax3.xaxis.set_minor_locator(AutoMinorLocator())\n",
    "\n",
    "labels = [r'${:.2f} \\pi$'.format(n) for n in np.linspace(0,2,5)]\n",
    "\n",
    "ax0.set_yticks(np.linspace(0,2*np.pi,5))\n",
    "ax0.yaxis.set_minor_locator(AutoMinorLocator())\n",
    "ax0.set_yticklabels(labels,fontsize=fs)\n",
    "\n",
    "labels = [r'${:.2f} \\pi$'.format(n) for n in np.linspace(0,2,4,endpoint=False)]\n",
    "ax2.set_yticks(np.linspace(0,2*np.pi,4,endpoint=False))\n",
    "ax2.yaxis.set_minor_locator(AutoMinorLocator())\n",
    "ax2.set_yticklabels(labels,fontsize=fs)\n",
    "\n",
    "for ax in fig.get_axes():\n",
    "    ax.tick_params(axis='both', which='major', labelsize=fs)\n",
    "    ax.hlines(np.pi, -2, 2, color='lightgray', alpha=0.3)\n",
    "    ax.vlines(0, 0, 2*np.pi, color='lightgray', alpha=0.3)\n",
    "\n",
    "fig.tight_layout()\n",
    "plt.savefig(\"./Plots/ChernDiagram2x2.png\", dpi=300, bbox_inches = 'tight')\n",
    "plt.savefig(\"./Plots/lowres/ChernDiagram2x2.png\", dpi=100, bbox_inches = 'tight')"
   ]
  },
  {
   "cell_type": "markdown",
   "id": "4bdc846d-6ff8-4639-9b96-42a49272ee23",
   "metadata": {},
   "source": [
    "### 1x3"
   ]
  },
  {
   "cell_type": "code",
   "execution_count": null,
   "id": "57e40ede-730f-48cc-9a9d-9b71da904880",
   "metadata": {},
   "outputs": [],
   "source": [
    "X, Y = np.meshgrid(mags,shifts,indexing=\"ij\")\n",
    "\n",
    "fig = plt.figure(figsize=(20,8))\n",
    "\n",
    "gs = fig.add_gridspec(1,3, hspace=0,wspace=0)\n",
    "ax1 = plt.subplot(gs.new_subplotspec((0,0)))\n",
    "ax2 = plt.subplot(gs.new_subplotspec((0,1), rowspan=1),sharey=ax1)\n",
    "ax3 = plt.subplot(gs.new_subplotspec((0,2), rowspan=1),sharey=ax1)\n",
    "# ax0 = plt.subplot(gs.new_subplotspec((0, 0), rowspan=1),sharex=ax2)\n",
    "\n",
    "# col0 = ax0.pcolormesh(X, Y, fermi, cmap='inferno',shading=shade)\n",
    "# ax0.set_title(r'$E_F$',fontsize=tfs, x=0.95, y=0.95, loc='left',color='white',backgroundcolor= 'black')\n",
    "# ax0.set_xlabel(r'$m$',fontsize=lfs)\n",
    "# ax0.set_ylabel(r'$\\varphi$',fontsize=lfs)\n",
    "# plt.colorbar(col0,ax=ax1,shrink=0.95)\n",
    "# ax0.get_xaxis().set_visible(False)\n",
    "\n",
    "col1 = ax1.pcolormesh(X, Y, ch_tau1tau2, vmin=-2.1,vmax=2.1, cmap=plt.cm.RdBu,shading=shade,snap=True)\n",
    "ax1.set_title(r'$Ch_{t_1 t_2}$',fontsize=tfs, x=0.80, y=0.92, loc='left')\n",
    "ax1.set_xlabel(r'$m$',fontsize=lfs)\n",
    "ax1.set_ylabel(r'$\\varphi$',fontsize=lfs)\n",
    "# ax1.get_xaxis().set_visible(False)\n",
    "# ax1.get_yaxis().set_visible(False)\n",
    "\n",
    "col2 = ax2.pcolormesh(X, Y, ch_u1u2, vmin=-2.1,vmax=2.1, cmap=plt.cm.RdBu,shading=shade,snap=True)\n",
    "ax2.set_title(r'$Ch_{u_1 u_2}$',fontsize=tfs, x=0.77, y=0.92, loc='left')\n",
    "ax2.set_xlabel(r'$m$',fontsize=lfs)\n",
    "ax2.set_ylabel(r'$\\varphi$',fontsize=lfs)\n",
    "ax2.get_yaxis().set_visible(False)\n",
    "# plt.colorbar(col2,ax=ax2,shrink=0.75)\n",
    "\n",
    "col3 = ax3.pcolormesh(X, Y, ch_tau1tau2u1u2, vmin=-2.1,vmax=2.1, cmap=plt.cm.RdBu,shading=shade,snap=True)\n",
    "ax3.set_title(r'$Ch_{t_1 t_2 u_1 u_2}$',fontsize=tfs, x=0.68, y=0.92, loc='left')\n",
    "ax3.set_xlabel(r'$m$',fontsize=lfs)\n",
    "ax3.set_ylabel(r'$\\varphi$',fontsize=lfs)\n",
    "ax3.get_yaxis().set_visible(False)\n",
    "# plt.colorbar(col3,ax=ax3,shrink=0.75)\n",
    "\n",
    "cbar1 = plt.colorbar(col1,ax=fig.get_axes(),anchor=(2.2,0.5),extend='both')\n",
    "cbar1.cmap.set_over('black')\n",
    "cbar1.cmap.set_under('black')\n",
    "\n",
    "ax1.set_xticks(np.linspace(-2,2,4,endpoint=False))\n",
    "ax1.xaxis.set_minor_locator(AutoMinorLocator())\n",
    "ax2.set_xticks(np.linspace(-2,2,4,endpoint=False))\n",
    "ax2.xaxis.set_minor_locator(AutoMinorLocator())\n",
    "ax3.set_xticks(np.linspace(-2,2,5))\n",
    "ax3.xaxis.set_minor_locator(AutoMinorLocator())\n",
    "\n",
    "labels = [r'${:.1f} \\pi$'.format(n) for n in np.linspace(0,2,5)]\n",
    "\n",
    "ax1.set_yticks(np.linspace(0,2*np.pi,5))\n",
    "ax1.yaxis.set_minor_locator(AutoMinorLocator())\n",
    "ax1.set_yticklabels(labels,fontsize=fs)\n",
    "\n",
    "# labels = [r'${:.1f} \\pi$'.format(n) for n in np.linspace(min_shift/np.pi,max_shift/np.pi,10,endpoint=False)]\n",
    "# ax2.set_yticks(np.linspace(min_shift,max_shift,10,endpoint=False))\n",
    "# ax2.yaxis.set_minor_locator(AutoMinorLocator())\n",
    "# ax2.set_yticklabels(labels,fontsize=fs)\n",
    "\n",
    "for ax in fig.get_axes():\n",
    "    ax.tick_params(axis='both', which='major', labelsize=fs)\n",
    "    ax.hlines(np.pi, -2, 2, color='lightgray', alpha=0.3)\n",
    "    ax.vlines(0, 0, 2*np.pi, color='lightgray', alpha=0.3)\n",
    "\n",
    "fig.tight_layout()\n",
    "plt.savefig(\"./Plots/ChernDiagram3.png\", dpi=300, bbox_inches = 'tight')\n",
    "plt.savefig(\"./Plots/lowres/ChernDiagram3.png\", dpi=100, bbox_inches = 'tight')"
   ]
  },
  {
   "cell_type": "markdown",
   "id": "3deae6bc-ea12-49a1-8412-d2a71d5fe031",
   "metadata": {
    "tags": []
   },
   "source": [
    "# Analytic winding number diagram"
   ]
  },
  {
   "cell_type": "code",
   "execution_count": null,
   "id": "eccac06a-fd4c-4306-b98e-b3b53f32e7a1",
   "metadata": {},
   "outputs": [],
   "source": [
    "net_mag1 = np.linspace(-2,np.sqrt(3)/2,10000,endpoint=False)\n",
    "net_mag2 = np.linspace(np.sqrt(3)/2+0.00001,2,10000)\n",
    "\n",
    "def winding_boundary(m):\n",
    "    s1 = ( 3*(np.pi + np.arccos(m/np.sqrt(3))) )%(2*np.pi)\n",
    "    s2 = ( 3*(np.pi - np.arccos(m/np.sqrt(3))) )%(2*np.pi)\n",
    "    s3 = ( 2*np.pi - np.arccos(m*np.sqrt(3)) )%(2*np.pi)\n",
    "    s4 = ( 4*np.pi + np.arccos(m*np.sqrt(3)) )%(2*np.pi)\n",
    "    return np.array([s1,s2,s3,s4])"
   ]
  },
  {
   "cell_type": "code",
   "execution_count": null,
   "id": "5188b45f-909f-40bb-86a8-46000365f158",
   "metadata": {},
   "outputs": [],
   "source": [
    "X, Y = np.meshgrid(mags,shifts,indexing=\"ij\")\n",
    "\n",
    "fig = plt.figure()\n",
    "\n",
    "gs = fig.add_gridspec(2,2, hspace=0,wspace=0)\n",
    "ax2 = plt.subplot(gs.new_subplotspec((1, 0), rowspan=1))\n",
    "ax3 = plt.subplot(gs.new_subplotspec((1, 1), rowspan=1),sharey=ax2)\n",
    "ax0 = plt.subplot(gs.new_subplotspec((0, 0), rowspan=1),sharex=ax2)\n",
    "ax1 = plt.subplot(gs.new_subplotspec((0, 1), rowspan=1),sharey=ax0,sharex=ax3)\n",
    "\n",
    "col0 = ax0.pcolormesh(X, Y, fermi, cmap=plt.cm.inferno,shading=shade,snap=True)\n",
    "ax0.set_title(r'$E_F$',fontsize=tfs, x=0.95, y=0.95, loc='left',color='white',backgroundcolor= 'black')\n",
    "ax0.set_xlabel(r'$m$',fontsize=lfs)\n",
    "ax0.set_ylabel(r'$\\varphi$',fontsize=lfs)\n",
    "cbar0 = plt.colorbar(col0,ax=ax1,shrink=0.95)\n",
    "ax0.get_xaxis().set_visible(False)\n",
    "\n",
    "col1 = ax1.pcolormesh(X, Y, ch_tau1tau2, vmin=-2.2,vmax=2.2, cmap=plt.cm.RdBu,shading=shade,snap=True)\n",
    "ax1.set_title(r'$Ch_{t_1 t_2}$',fontsize=tfs, x=0.875, y=0.945, loc='left')\n",
    "ax1.set_xlabel(r'$m$',fontsize=lfs)\n",
    "ax1.set_ylabel(r'$\\varphi$',fontsize=lfs)\n",
    "cbar1 = plt.colorbar(col1,ax=ax3,shrink=0.95,extend='both')\n",
    "cbar1.cmap.set_over('black')\n",
    "cbar1.cmap.set_under('black')\n",
    "ax1.get_xaxis().set_visible(False)\n",
    "ax1.get_yaxis().set_visible(False)\n",
    "\n",
    "col2 = ax2.pcolormesh(X, Y, ch_u1u2, vmin=-2.2,vmax=2.2, cmap=plt.cm.RdBu,shading=shade,snap=True)\n",
    "ax2.set_title(r'$Ch_{u_1 u_2}$',fontsize=tfs, x=0.89, y=0.95, loc='left')\n",
    "ax2.set_xlabel(r'$m$',fontsize=lfs)\n",
    "ax2.set_ylabel(r'$\\varphi$',fontsize=lfs)\n",
    "# plt.colorbar(col2,ax=ax2,shrink=0.75)\n",
    "\n",
    "col3 = ax3.pcolormesh(X, Y, ch_tau1tau2u1u2, vmin=-2.2,vmax=2.2, cmap=plt.cm.RdBu,shading=shade,snap=True)\n",
    "ax3.set_title(r'$Ch_{t_1 t_2 u_1 u_2}$',fontsize=tfs, x=0.806, y=0.95, loc='left')\n",
    "ax3.set_xlabel(r'$m$',fontsize=lfs)\n",
    "ax3.set_ylabel(r'$\\varphi$',fontsize=lfs)\n",
    "ax3.get_yaxis().set_visible(False)\n",
    "# plt.colorbar(col3,ax=ax3,shrink=0.75)\n",
    "\n",
    "ax2.set_xticks(np.linspace(-2,2,8,endpoint=False))\n",
    "ax2.xaxis.set_minor_locator(AutoMinorLocator())\n",
    "ax3.set_xticks(np.linspace(-2,2,9))\n",
    "ax3.xaxis.set_minor_locator(AutoMinorLocator())\n",
    "\n",
    "labels = [r'${:.2f} \\pi$'.format(n) for n in np.linspace(0,2,9)]\n",
    "\n",
    "ax0.set_yticks(np.linspace(0,2*np.pi,9))\n",
    "ax0.yaxis.set_minor_locator(AutoMinorLocator())\n",
    "ax0.set_yticklabels(labels,fontsize=fs)\n",
    "\n",
    "labels = [r'${:.2f} \\pi$'.format(n) for n in np.linspace(0,2,8,endpoint=False)]\n",
    "ax2.set_yticks(np.linspace(0,2*np.pi,8,endpoint=False))\n",
    "ax2.yaxis.set_minor_locator(AutoMinorLocator())\n",
    "ax2.set_yticklabels(labels,fontsize=fs)\n",
    "\n",
    "for ax in fig.get_axes()[:-2]:\n",
    "    ax.tick_params(axis='both', which='major', labelsize=fs)\n",
    "    \n",
    "    for s in winding_boundary(net_mag1): ax.plot(net_mag1,s,c='k',linewidth=1.0);\n",
    "    for s in winding_boundary(net_mag2): ax.plot(net_mag2,s,c='k',linewidth=1.0);\n",
    "\n",
    "fig.tight_layout()\n",
    "# plt.savefig(\"./Plots/ChernDiagram2x2.png\", dpi=300, bbox_inches = 'tight')\n",
    "# plt.savefig(\"./Plots/lowres/ChernDiagram2x2.png\", dpi=100, bbox_inches = 'tight')"
   ]
  },
  {
   "cell_type": "code",
   "execution_count": null,
   "id": "631a59e8-a4e8-4953-b12a-3db7310051c0",
   "metadata": {},
   "outputs": [],
   "source": []
  }
 ],
 "metadata": {
  "kernelspec": {
   "display_name": "Python 3 (ipykernel)",
   "language": "python",
   "name": "python3"
  },
  "language_info": {
   "codemirror_mode": {
    "name": "ipython",
    "version": 3
   },
   "file_extension": ".py",
   "mimetype": "text/x-python",
   "name": "python",
   "nbconvert_exporter": "python",
   "pygments_lexer": "ipython3",
   "version": "3.9.7"
  }
 },
 "nbformat": 4,
 "nbformat_minor": 5
}
