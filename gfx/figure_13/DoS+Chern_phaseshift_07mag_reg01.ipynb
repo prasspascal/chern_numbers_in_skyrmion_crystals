{
 "cells": [
  {
   "cell_type": "markdown",
   "id": "1b5a5b25-c2c0-4f82-a70a-801561e83e6b",
   "metadata": {
    "tags": []
   },
   "source": [
    "# Import packages and set parameters"
   ]
  },
  {
   "cell_type": "code",
   "execution_count": null,
   "id": "1d093d69-4adf-48b1-acd0-c803ff5eb35b",
   "metadata": {},
   "outputs": [],
   "source": [
    "import numpy as np\n",
    "from numpy import linalg\n",
    "from numba import jit\n",
    "import seaborn as sns\n",
    "import matplotlib as mpl\n",
    "import matplotlib.pyplot as plt\n",
    "import matplotlib.colors as colors\n",
    "import matplotlib.transforms as mtransforms\n",
    "from matplotlib.ticker import (MultipleLocator, AutoMinorLocator)\n",
    "\n",
    "from scipy.constants import pi\n",
    "from scipy.interpolate import RectBivariateSpline, griddata\n",
    "\n",
    "import os\n",
    "import ast\n",
    "import pandas as pd\n",
    "\n",
    "import mpl_scatter_density # adds projection='scatter_density'\n",
    "from matplotlib.colors import LinearSegmentedColormap\n",
    "\n",
    "def set_pandas_display_options() -> None:\n",
    "    \"\"\"Set pandas display options.\"\"\"\n",
    "    # Ref: https://stackoverflow.com/a/52432757/\n",
    "    display = pd.options.display\n",
    "\n",
    "    display.max_columns = None\n",
    "    display.max_rows = None\n",
    "    display.max_colwidth = None\n",
    "    display.width = None\n",
    "    display.chop_threshold = None\n",
    "    display.precision = 14  # set as needed\n",
    "\n",
    "set_pandas_display_options()"
   ]
  },
  {
   "cell_type": "code",
   "execution_count": null,
   "id": "6e8baa85-fe35-4a8e-8baa-4c2d4fb07588",
   "metadata": {},
   "outputs": [],
   "source": [
    "palette = list(sns.color_palette(\"Blues\", 6).as_hex())\n",
    "\n",
    "# \"Inferno-like\" colormap with white background\n",
    "white_blues = LinearSegmentedColormap.from_list('white_blues', [\n",
    "    (0, '#ffffff'),\n",
    "    (1e-10, palette[0]),\n",
    "    (0.2, palette[1]),\n",
    "    (0.4, palette[2]),\n",
    "    (0.6, palette[3]),\n",
    "    (0.8, palette[4]),\n",
    "    (1, palette[5]),\n",
    "], N=256)\n",
    "\n",
    "palette = list(sns.color_palette(\"inferno_r\", 6).as_hex())\n",
    "\n",
    "# \"Inferno-like\" colormap with white background\n",
    "white_inferno = LinearSegmentedColormap.from_list('white_inferno', [\n",
    "    (0, '#ffffff'),\n",
    "    (1e-10, palette[0]),\n",
    "    (0.2, palette[1]),\n",
    "    (0.4, palette[2]),\n",
    "    (0.6, palette[3]),\n",
    "    (0.8, palette[4]),\n",
    "    (1, palette[5]),\n",
    "], N=256)"
   ]
  },
  {
   "cell_type": "markdown",
   "id": "f2b4c144-d5a3-44e7-910e-85b3f0d5509b",
   "metadata": {
    "tags": []
   },
   "source": [
    "# Define methods"
   ]
  },
  {
   "cell_type": "markdown",
   "id": "ea5da1e3-0321-4714-8a9a-dc35b8310352",
   "metadata": {
    "tags": []
   },
   "source": [
    "## DOS interpolation"
   ]
  },
  {
   "cell_type": "code",
   "execution_count": null,
   "id": "aa5c07f5-ed27-49db-baac-207a53c58b9e",
   "metadata": {},
   "outputs": [],
   "source": [
    "@jit(nopython=True)\n",
    "def fermi(E,mu,kbT):\n",
    "    return 1.0 / ( np.exp( (E-mu) / kbT) + 1)\n",
    "\n",
    "@jit(nopython=True)\n",
    "def dfermi(E,mu,kbT):\n",
    "    return 1.0/(2*kbT + 2*kbT*np.cosh((E - mu)/kbT))\n",
    "\n",
    "@jit(nopython=True)\n",
    "def dos(mu, kbT, spec):\n",
    "       \n",
    "    dens = 0.0\n",
    "    \n",
    "    for level in spec:\n",
    "        dens += dfermi(level,mu,kbT)\n",
    "        \n",
    "    return dens / ( len(spec) / 2.0)\n",
    "\n",
    "@jit(nopython=True)\n",
    "def ids(mu, spec):\n",
    "       \n",
    "    dens = 0.0 \n",
    "    \n",
    "    for level in spec:\n",
    "        if level < mu:\n",
    "            dens += 1\n",
    "        \n",
    "    return dens / ( len(spec) / 2.0)"
   ]
  },
  {
   "cell_type": "markdown",
   "id": "6a74eb37-6b15-4699-99dd-1425fdd564b4",
   "metadata": {
    "tags": []
   },
   "source": [
    "# Import data"
   ]
  },
  {
   "cell_type": "markdown",
   "id": "a7801a6e-625d-421d-abf1-5b2b6c6f9ba8",
   "metadata": {
    "tags": []
   },
   "source": [
    "## Read files for parameters"
   ]
  },
  {
   "cell_type": "code",
   "execution_count": null,
   "id": "58eb3894-0961-4a72-853e-e003ac2e87cb",
   "metadata": {},
   "outputs": [],
   "source": [
    "files = [x[0] for x in os.walk('./data/')][1::]\n",
    "df = pd.DataFrame()\n",
    "for file in files:\n",
    "    data = pd.read_json(file+'/params.json',orient='index').transpose()\n",
    "    data[\"key\"] = file[7:]\n",
    "    \n",
    "    if \"n_shift\" in data and \"mag\" in data and \"tau1tau2\" in data:\n",
    "            df = pd.concat([df,data])\n",
    "            \n",
    "display(df.set_index('key').sort_index(ascending=False))"
   ]
  },
  {
   "cell_type": "markdown",
   "id": "24dc28b5-0044-4d0b-9ac6-0bfe93f0e64c",
   "metadata": {
    "tags": []
   },
   "source": [
    "## Select data"
   ]
  },
  {
   "cell_type": "markdown",
   "id": "2b4ad7b1-0e69-44c1-851f-4facace4b86e",
   "metadata": {},
   "source": [
    "### skx"
   ]
  },
  {
   "cell_type": "code",
   "execution_count": null,
   "id": "fdf18e40-6aa5-4ffd-8159-6ed3a8b908e9",
   "metadata": {},
   "outputs": [],
   "source": [
    "key = '1701375002'"
   ]
  },
  {
   "cell_type": "markdown",
   "id": "e32a49a6-7ad8-4fe8-a455-d44d4e7201de",
   "metadata": {
    "tags": []
   },
   "source": [
    "## Import file and extract data"
   ]
  },
  {
   "cell_type": "code",
   "execution_count": null,
   "id": "1f7c8a98-866c-45b6-b88a-aea4b7685f10",
   "metadata": {},
   "outputs": [],
   "source": [
    "outdir = './data/' + key\n",
    "\n",
    "# parameter\n",
    "tex, size = df.set_index('key').at[key,'texture'], df.set_index('key').at[key,'system_sizes'],\n",
    "t, m = df.set_index('key').at[key,'t'], df.set_index('key').at[key,'m'],\n",
    "theta, ids, mag = df.set_index('key').at[key,'q'], df.set_index('key').at[key,'ids'], df.set_index('key').at[key,'mag']\n",
    "n_shift, min_shift, max_shift = df.set_index('key').at[key,'n_shift'], df.set_index('key').at[key,'min_shift'], df.set_index('key').at[key,'max_shift']\n",
    "tau1tau2, u1u2, tau1tau2u1u2 = df.set_index('key').at[key,'tau1tau2'], df.set_index('key').at[key,'u1u2'], df.set_index('key').at[key,'tau1tau2u1u2']\n",
    "phi, eta = df.set_index('key').at[key,'phi'], df.set_index('key').at[key,'eta']\n",
    "\n",
    "# data\n",
    "shifts = np.linspace(min_shift,max_shift,n_shift)\n",
    "    \n",
    "fermis = np.load(outdir+\"/fermi.npy\")\n",
    "ch_tau1tau2 = np.load(outdir+\"/ch_tau1tau2.npy\")\n",
    "ch_u1u2 = np.load(outdir+\"/ch_u1u2.npy\")\n",
    "ch_tau1tau2u1u2 = np.load(outdir+\"/ch_tau1tau2u1u2.npy\")\n",
    "\n",
    "# Full spectrum\n",
    "spec   = np.array([np.load(outdir+'/spec_'+str(i).zfill(4)+'.npy') for i in range(n_shift)])\n",
    "\n",
    "# Density array\n",
    "x = []\n",
    "y = []\n",
    "\n",
    "for i,s in enumerate(spec):\n",
    "    for e in s:\n",
    "        x.append(shifts[i])\n",
    "        y.append(e)\n",
    "\n",
    "x = np.array(x)\n",
    "y = np.array(y)"
   ]
  },
  {
   "cell_type": "markdown",
   "id": "a5362302-9be8-4490-8517-ee72bef32d9e",
   "metadata": {
    "tags": []
   },
   "source": [
    "# DoS + Chern"
   ]
  },
  {
   "cell_type": "code",
   "execution_count": null,
   "id": "64aa8368-274b-4779-870b-a01bd3d14082",
   "metadata": {},
   "outputs": [],
   "source": [
    "# Plot parameter\n",
    "mpl.pyplot.rcdefaults()\n",
    "plt.rcParams['figure.figsize'] = [12, 15]\n",
    "plt.rcParams['savefig.facecolor'] = \"white\"\n",
    "mpl.rcParams['figure.dpi'] = 300\n",
    "mpl.rcParams['axes.linewidth'] = 1\n",
    "mpl.rcParams['mathtext.fontset'] = 'stix'\n",
    "mpl.rcParams['font.family'] = 'STIXGeneral'\n",
    "\n",
    "tfs    = 48 #title font size\n",
    "lfs    = 40 #label font size\n",
    "fs     = 40 #font size\n",
    "cbarfs = 18 #colorbar font size\n",
    "\n",
    "# scatter size\n",
    "s = 4\n",
    "\n",
    "# figure\n",
    "fig = plt.figure()\n",
    "gs = fig.add_gridspec(5,1, hspace=0,wspace=0)\n",
    "ax0 = plt.subplot(gs.new_subplotspec((0, 0), rowspan=2),projection='scatter_density')\n",
    "# ax1 = plt.subplot(gs.new_subplotspec((2, 0), rowspan=1),sharex=ax0)\n",
    "ax2 = plt.subplot(gs.new_subplotspec((2, 0), rowspan=1),sharex=ax0)\n",
    "ax3 = plt.subplot(gs.new_subplotspec((3, 0), rowspan=1),sharex=ax0)\n",
    "ax4 = plt.subplot(gs.new_subplotspec((4, 0), rowspan=1),sharex=ax0)\n",
    "\n",
    "y_ticks = np.arange(-3, 2, 1)\n",
    "\n",
    "ax0.scatter_density(x, y, cmap=white_blues,vmin=0,vmax=4.0, dpi=150)\n",
    "ax0.set_yticks(y_ticks)\n",
    "ax0.set_xlabel(r\"$\\varphi$\",fontsize=lfs)\n",
    "ax0.set_ylabel(r\"$E_F$\",fontsize=lfs)\n",
    "ax0.plot(shifts,fermis, color = 'red', linestyle='dashed', label = r'fermi', linewidth=1)\n",
    "ax0.set_ylim([-2.5, 1.5])\n",
    "\n",
    "# y_ticks = np.arange(0.9, 1.1, 0.001)\n",
    "\n",
    "# ax1.scatter(shifts,ch_0.real,s=s);\n",
    "# ax1.set_yticks(y_ticks)\n",
    "# ax1.grid(True)\n",
    "# ax1.set_ylim([1.0291, 1.0319])\n",
    "# ax1.set_xlabel(r'phase shift',fontsize=lfs)\n",
    "# ax1.set_title(r'IDS',fontsize=tfs, x=0.007, y=0.88, loc='left',backgroundcolor= 'white')\n",
    "\n",
    "y_ticks = np.arange(-1, 1.5, 0.5)\n",
    "\n",
    "ax2.scatter(shifts,ch_tau1tau2.real,s=s);\n",
    "ax2.set_yticks(y_ticks)\n",
    "ax2.grid(True)\n",
    "ax2.set_ylim([-1.2, 0.2])\n",
    "ax2.set_xlabel(r'$\\varphi$',fontsize=lfs)\n",
    "ax2.set_title(r'$Ch_{t_1 t_2}$',fontsize=tfs, x=0.86, y=0.77, loc='left',backgroundcolor= 'white')\n",
    "\n",
    "y_ticks = np.arange(-2, 1, 0.5)\n",
    "\n",
    "ax3.scatter(shifts,ch_u1u2.real,s=s);\n",
    "ax3.set_yticks(y_ticks)\n",
    "ax3.grid(True)\n",
    "ax3.set_ylim([-2.2, -0.8])\n",
    "ax3.set_xlabel(r'$\\varphi$',fontsize=lfs)\n",
    "ax3.set_title(r'$Ch_{u_1 u_2}$',fontsize=tfs, x=0.8405, y=0.39, loc='left',backgroundcolor= 'white')\n",
    "\n",
    "y_ticks = np.arange(-1.1, -0.9, 0.1)\n",
    "\n",
    "ax4.scatter(shifts,ch_tau1tau2u1u2.real,s=s);\n",
    "ax4.set_yticks(y_ticks)\n",
    "ax4.grid(True)\n",
    "ax4.set_ylim([-1.15, -0.85])\n",
    "ax4.set_xlabel(r'$\\varphi$',fontsize=lfs)\n",
    "ax4.set_title(r'$Ch_{t_1 t_2 u_1 u_2}$',fontsize=tfs, x=0.78, y=0.77, loc='left',backgroundcolor= 'white')\n",
    "\n",
    "for ax in fig.get_axes():\n",
    "    ax.tick_params(axis='both', which='major', labelsize=fs)\n",
    "    ax.set_xticks([n for n in np.linspace(0.1*np.pi,0.9*np.pi,5)])\n",
    "    ax.xaxis.set_minor_locator(AutoMinorLocator())\n",
    "    labels = [r'${:.1f} \\pi$'.format(n) for n in np.linspace(0.1,0.9,5)]\n",
    "    ax.set_xticklabels(labels)\n",
    "    \n",
    "for ax in fig.get_axes()[:-1]:\n",
    "    ax.tick_params(bottom=False, labelbottom=False)\n",
    "    \n",
    "plt.tight_layout()\n",
    "plt.savefig(\"./Plots/Chernhierarchy_phaseshift_07mag_reg01.png\", dpi=300, bbox_inches = 'tight')"
   ]
  },
  {
   "cell_type": "markdown",
   "id": "758573a9-f46c-456a-af5c-c6c31f74ebc2",
   "metadata": {},
   "source": [
    "# Low resolution"
   ]
  },
  {
   "cell_type": "code",
   "execution_count": null,
   "id": "04c4003d-0c0d-4436-9528-fecefa5a43a6",
   "metadata": {},
   "outputs": [],
   "source": [
    "# Plot parameter\n",
    "mpl.pyplot.rcdefaults()\n",
    "plt.rcParams['figure.figsize'] = [12, 15]\n",
    "plt.rcParams['savefig.facecolor'] = \"white\"\n",
    "mpl.rcParams['figure.dpi'] = 100\n",
    "mpl.rcParams['axes.linewidth'] = 1\n",
    "mpl.rcParams['mathtext.fontset'] = 'stix'\n",
    "mpl.rcParams['font.family'] = 'STIXGeneral'\n",
    "\n",
    "tfs    = 48 #title font size\n",
    "lfs    = 40 #label font size\n",
    "fs     = 40 #font size\n",
    "cbarfs = 18 #colorbar font size\n",
    "\n",
    "# scatter size\n",
    "s = 4\n",
    "\n",
    "# figure\n",
    "fig = plt.figure()\n",
    "gs = fig.add_gridspec(5,1, hspace=0,wspace=0)\n",
    "ax0 = plt.subplot(gs.new_subplotspec((0, 0), rowspan=2),projection='scatter_density')\n",
    "# ax1 = plt.subplot(gs.new_subplotspec((2, 0), rowspan=1),sharex=ax0)\n",
    "ax2 = plt.subplot(gs.new_subplotspec((2, 0), rowspan=1),sharex=ax0)\n",
    "ax3 = plt.subplot(gs.new_subplotspec((3, 0), rowspan=1),sharex=ax0)\n",
    "ax4 = plt.subplot(gs.new_subplotspec((4, 0), rowspan=1),sharex=ax0)\n",
    "\n",
    "y_ticks = np.arange(-3, 2, 1)\n",
    "\n",
    "ax0.scatter_density(x, y, cmap=white_blues,vmin=0,vmax=4.0, dpi=150)\n",
    "ax0.set_yticks(y_ticks)\n",
    "ax0.set_xlabel(r\"$\\varphi$\",fontsize=lfs)\n",
    "ax0.set_ylabel(r\"$E_F$\",fontsize=lfs)\n",
    "ax0.plot(shifts,fermis, color = 'red', linestyle='dashed', label = r'fermi', linewidth=1)\n",
    "ax0.set_ylim([-2.5, 1.5])\n",
    "\n",
    "# y_ticks = np.arange(0.9, 1.1, 0.001)\n",
    "\n",
    "# ax1.scatter(shifts,ch_0.real,s=s);\n",
    "# ax1.set_yticks(y_ticks)\n",
    "# ax1.grid(True)\n",
    "# ax1.set_ylim([1.0291, 1.0319])\n",
    "# ax1.set_xlabel(r'phase shift',fontsize=lfs)\n",
    "# ax1.set_title(r'IDS',fontsize=tfs, x=0.007, y=0.88, loc='left',backgroundcolor= 'white')\n",
    "\n",
    "y_ticks = np.arange(-1, 1.5, 0.5)\n",
    "\n",
    "ax2.scatter(shifts,ch_tau1tau2.real,s=s);\n",
    "ax2.set_yticks(y_ticks)\n",
    "ax2.grid(True)\n",
    "ax2.set_ylim([-1.2, 0.2])\n",
    "ax2.set_xlabel(r'$\\varphi$',fontsize=lfs)\n",
    "ax2.set_title(r'$Ch_{t_1 t_2}$',fontsize=tfs, x=0.8585, y=0.766, loc='left',backgroundcolor= 'white')\n",
    "\n",
    "y_ticks = np.arange(-2, 1, 0.5)\n",
    "\n",
    "ax3.scatter(shifts,ch_u1u2.real,s=s);\n",
    "ax3.set_yticks(y_ticks)\n",
    "ax3.grid(True)\n",
    "ax3.set_ylim([-2.2, -0.8])\n",
    "ax3.set_xlabel(r'$\\varphi$',fontsize=lfs)\n",
    "ax3.set_title(r'$Ch_{u_1 u_2}$',fontsize=tfs, x=0.8385, y=0.386, loc='left',backgroundcolor= 'white')\n",
    "\n",
    "y_ticks = np.arange(-1.1, -0.9, 0.1)\n",
    "\n",
    "ax4.scatter(shifts,ch_tau1tau2u1u2.real,s=s);\n",
    "ax4.set_yticks(y_ticks)\n",
    "ax4.grid(True)\n",
    "ax4.set_ylim([-1.15, -0.85])\n",
    "ax4.set_xlabel(r'$\\varphi$',fontsize=lfs)\n",
    "ax4.set_title(r'$Ch_{t_1 t_2 u_1 u_2}$',fontsize=tfs, x=0.778, y=0.764, loc='left',backgroundcolor= 'white')\n",
    "\n",
    "for ax in fig.get_axes():\n",
    "    ax.tick_params(axis='both', which='major', labelsize=fs)\n",
    "    ax.set_xticks([n for n in np.linspace(0.1*np.pi,0.9*np.pi,5)])\n",
    "    ax.xaxis.set_minor_locator(AutoMinorLocator())\n",
    "    labels = [r'${:.1f} \\pi$'.format(n) for n in np.linspace(0.1,0.9,5)]\n",
    "    ax.set_xticklabels(labels)\n",
    "    \n",
    "for ax in fig.get_axes()[:-1]:\n",
    "    ax.tick_params(bottom=False, labelbottom=False)\n",
    "    \n",
    "plt.tight_layout()\n",
    "plt.savefig(\"./Plots/lowres/Chernhierarchy_phaseshift_07mag_reg01.png\", dpi=100, bbox_inches = 'tight')"
   ]
  },
  {
   "cell_type": "code",
   "execution_count": null,
   "id": "9da249ff-1df7-4cef-8702-d560f64fc838",
   "metadata": {},
   "outputs": [],
   "source": []
  }
 ],
 "metadata": {
  "kernelspec": {
   "display_name": "Python 3 (ipykernel)",
   "language": "python",
   "name": "python3"
  },
  "language_info": {
   "codemirror_mode": {
    "name": "ipython",
    "version": 3
   },
   "file_extension": ".py",
   "mimetype": "text/x-python",
   "name": "python",
   "nbconvert_exporter": "python",
   "pygments_lexer": "ipython3",
   "version": "3.9.7"
  }
 },
 "nbformat": 4,
 "nbformat_minor": 5
}
